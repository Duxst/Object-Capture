{
 "cells": [
  {
   "cell_type": "code",
   "execution_count": 2,
   "metadata": {},
   "outputs": [],
   "source": [
    "import cv2 as cv"
   ]
  },
  {
   "cell_type": "markdown",
   "metadata": {},
   "source": [
    "# Visualizing moving objects in video"
   ]
  },
  {
   "cell_type": "code",
   "execution_count": 3,
   "metadata": {},
   "outputs": [
    {
     "ename": "KeyboardInterrupt",
     "evalue": "",
     "output_type": "error",
     "traceback": [
      "\u001b[1;31m---------------------------------------------------------------------------\u001b[0m",
      "\u001b[1;31mKeyboardInterrupt\u001b[0m                         Traceback (most recent call last)",
      "Cell \u001b[1;32mIn[3], line 16\u001b[0m\n\u001b[0;32m     14\u001b[0m \u001b[38;5;66;03m# Visualize the data, create an endless loop, and visualize the video frame by frame\u001b[39;00m\n\u001b[0;32m     15\u001b[0m \u001b[38;5;28;01mwhile\u001b[39;00m \u001b[38;5;28;01mTrue\u001b[39;00m:\n\u001b[1;32m---> 16\u001b[0m     ret, frame \u001b[38;5;241m=\u001b[39m \u001b[43mvideo\u001b[49m\u001b[38;5;241;43m.\u001b[39;49m\u001b[43mread\u001b[49m\u001b[43m(\u001b[49m\u001b[43m)\u001b[49m\n\u001b[0;32m     17\u001b[0m     \u001b[38;5;28;01mif\u001b[39;00m ret:\n\u001b[0;32m     18\u001b[0m         mask \u001b[38;5;241m=\u001b[39m subtractor\u001b[38;5;241m.\u001b[39mapply(frame)\n",
      "\u001b[1;31mKeyboardInterrupt\u001b[0m: "
     ]
    },
    {
     "ename": "",
     "evalue": "",
     "output_type": "error",
     "traceback": [
      "\u001b[1;31mThe Kernel crashed while executing code in the current cell or a previous cell. \n",
      "\u001b[1;31mPlease review the code in the cell(s) to identify a possible cause of the failure. \n",
      "\u001b[1;31mClick <a href='https://aka.ms/vscodeJupyterKernelCrash'>here</a> for more info. \n",
      "\u001b[1;31mView Jupyter <a href='command:jupyter.viewOutput'>log</a> for further details."
     ]
    }
   ],
   "source": [
    "\n",
    "# Capture video from the default camera\n",
    "video = cv.VideoCapture(0)\n",
    "\n",
    "# Get the width and height of the frame\n",
    "frame_width = int(video.get(3))\n",
    "frame_height = int(video.get(4))\n",
    "\n",
    "# Define the codec and create VideoWriter object to save the output video\n",
    "out = cv.VideoWriter('output.avi', cv.VideoWriter_fourcc('M','J','P','G'), 10, (frame_width, frame_height), False)\n",
    "\n",
    "# Create subtractor object\n",
    "subtractor = cv.createBackgroundSubtractorMOG2(20, 50)\n",
    "\n",
    "# Visualize the data, create an endless loop, and visualize the video frame by frame\n",
    "while True:\n",
    "    ret, frame = video.read()\n",
    "    if ret:\n",
    "        mask = subtractor.apply(frame)\n",
    "        edges = cv.Canny(mask, 100, 200)  # Apply Canny edge detection on the mask\n",
    "        out.write(edges)  # Write the processed frame to the output file\n",
    "        \n",
    "        # Display the original frame, mask, and edges\n",
    "        cv.imshow('Original', frame)\n",
    "        cv.imshow('Mask', mask)\n",
    "        cv.imshow('Edges', edges)\n",
    "\n",
    "        if cv.waitKey(5) == ord('x'):  # Use 'x' instead of 'X' to avoid case sensitivity issues\n",
    "            break\n",
    "    else:\n",
    "        break  # Exit the loop if there's an issue with the camera\n",
    "\n",
    "# Release everything\n",
    "cv.destroyAllWindows()\n",
    "video.release()\n",
    "out.release()\n"
   ]
  }
 ],
 "metadata": {
  "kernelspec": {
   "display_name": "Python 3",
   "language": "python",
   "name": "python3"
  },
  "language_info": {
   "codemirror_mode": {
    "name": "ipython",
    "version": 3
   },
   "file_extension": ".py",
   "mimetype": "text/x-python",
   "name": "python",
   "nbconvert_exporter": "python",
   "pygments_lexer": "ipython3",
   "version": "3.12.3"
  }
 },
 "nbformat": 4,
 "nbformat_minor": 2
}
